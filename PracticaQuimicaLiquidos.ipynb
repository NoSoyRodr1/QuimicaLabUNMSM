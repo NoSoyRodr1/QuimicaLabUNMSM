{
  "nbformat": 4,
  "nbformat_minor": 0,
  "metadata": {
    "colab": {
      "provenance": [],
      "authorship_tag": "ABX9TyNtnuaaZKFBtGoZ+MxQoQPP",
      "include_colab_link": true
    },
    "kernelspec": {
      "name": "python3",
      "display_name": "Python 3"
    },
    "language_info": {
      "name": "python"
    }
  },
  "cells": [
    {
      "cell_type": "markdown",
      "metadata": {
        "id": "view-in-github",
        "colab_type": "text"
      },
      "source": [
        "<a href=\"https://colab.research.google.com/github/NoSoyRodr1/QuimicaLabUNMSM/blob/main/PracticaQuimicaLiquidos.ipynb\" target=\"_parent\"><img src=\"https://colab.research.google.com/assets/colab-badge.svg\" alt=\"Open In Colab\"/></a>"
      ]
    },
    {
      "cell_type": "markdown",
      "source": [
        "### **PRACTICA LÍQUIDOS Y SOLUCIONES**\n",
        "**Dulanto Romero Gianpierre Rodrigo**"
      ],
      "metadata": {
        "id": "WSRdi122OQB1"
      }
    },
    {
      "cell_type": "markdown",
      "source": [
        "**1.\n",
        "Proponga un ejemplo para cada tipo de fuerzas intermoleculares:**\n",
        "\n",
        "**a) interacción dipolo-dipolo**\n",
        "\n",
        "**b) interacción dipolo-dipolo inducido**\n",
        "\n",
        "**c) interacción ion-dipolo**\n",
        "\n",
        "**d) fuerzas de dispersión**\n",
        "\n",
        "**e) fuerzas de van der Waals**"
      ],
      "metadata": {
        "id": "CxHDklaoOcRi"
      }
    },
    {
      "cell_type": "markdown",
      "source": [
        "**a) Interacción dipolo-dipolo:** En una molécula de amoníaco (NH3), el átomo de nitrógeno es parcialmente negativo, mientras que los átomos de hidrógeno son parcialmente positivos. Cuando las moléculas de amoníaco se atraen debido a estas diferencias de carga, se produce una interacción dipolo-dipolo.\n",
        "\n",
        "**b) Interacción dipolo-dipolo inducido:** Las moléculas de dióxido de azufre (SO2) son polares y tienen dipolos permanentes. Sin embargo, cuando dos moléculas de SO2 se acercan, la repartición temporal de electrones puede crear dipolos inducidos, generando una atracción intermolecular.\n",
        "\n",
        "**c) Interacción ion-dipolo:** En la disolución de cloruro de potasio (KCl) en agua, los iones K+ y Cl- interactúan con las moléculas de agua, que son dipolos, debido a las diferencias de carga, resultando en fuerzas de atracción ion-dipolo.\n",
        "\n",
        "**d) Fuerzas de dispersión:** Cuando moléculas de metano (CH4) se atraen entre sí en el estado gaseoso, experimentan fuerzas de dispersión debido a las fluctuaciones en la distribución de electrones en estas moléculas no polares.\n",
        "\n",
        "**e) Fuerzas de van der Waals:** En un líquido compuesto por moléculas de cloruro de etilo (C2H5Cl), las fuerzas de van der Waals incluyen tanto las interacciones dipolo-dipolo entre las moléculas polares de C2H5Cl como las fuerzas de dispersión que afectan a todas las moléculas, contribuyendo a las fuerzas de van der Waals en el líquido."
      ],
      "metadata": {
        "id": "Y_W2xLP2OrXm"
      }
    },
    {
      "cell_type": "markdown",
      "source": [
        "**2.\n",
        "Explique el término “polarizabilidad\". ¿Qué clase de\n",
        "moléculas tienden a ser muy polarizables? ¿Qué rela-\n",
        "ción existe entre la polarizabilidad y las fuerzas inter-\n",
        "moleculares?**"
      ],
      "metadata": {
        "id": "O02IBSEXPCRF"
      }
    },
    {
      "cell_type": "markdown",
      "source": [
        "\n",
        "La polarizabilidad es la capacidad de una molécula para cambiar la forma de su nube de electrones cuando se somete a un campo eléctrico. Moléculas de gran tamaño y con enlaces débiles tienen una alta polarizabilidad, lo que afecta a las fuerzas de dispersión intermoleculares, incrementando su intensidad y, en consecuencia, contribuyendo a la unión de las sustancias."
      ],
      "metadata": {
        "id": "N43b8IVePjHX"
      }
    },
    {
      "cell_type": "markdown",
      "source": [
        "**3.\n",
        "Explique la diferencia entre un momento dipolar temporal y un momento dipolar permanente.**"
      ],
      "metadata": {
        "id": "tiJ656QSP0oF"
      }
    },
    {
      "cell_type": "markdown",
      "source": [
        "Un momento dipolar permanente se refiere a la polaridad constante de una molécula debido a una diferencia de carga, mientras que un momento dipolar temporal se refiere a fluctuaciones temporales en la carga que hacen que una molécula momentáneamente se vuelva polar."
      ],
      "metadata": {
        "id": "vqGzNPMUP058"
      }
    },
    {
      "cell_type": "markdown",
      "source": [
        "**4.\n",
        "Mencione alguna evidencia de que todos los átomos y moléculas ejercen entre sí fuerzas de atracción.**"
      ],
      "metadata": {
        "id": "8J1WWAj2QmZQ"
      }
    },
    {
      "cell_type": "markdown",
      "source": [
        "Una evidencia de que todos los átomos y moléculas ejercen fuerzas de atracción entre sí se encuentra en las fuerzas intermoleculares, como las fuerzas de Van der Waals. Estas fuerzas de atracción débiles se manifiestan en propiedades como el punto de ebullición, el punto de fusión y la solubilidad de las sustancias. Estas propiedades varían debido a las interacciones entre las moléculas individuales, lo que indica que todas las sustancias experimentan fuerzas de atracción intermoleculares."
      ],
      "metadata": {
        "id": "tYevQ9jWRRpH"
      }
    },
    {
      "cell_type": "markdown",
      "source": [
        "**5.\n",
        "¿Qué propiedades físicas se deberían considerar al\n",
        "comparar la intensidad de las fuerzas intermoleculares\n",
        "en los sólidos y los líquidos?**"
      ],
      "metadata": {
        "id": "qyS7jJ3QUp0G"
      }
    },
    {
      "cell_type": "markdown",
      "source": [
        "Se deben considerar propiedades como el punto de fusión y ebullición (mayor en sólidos), entalpía de vaporización (mayor en sólidos), densidad (sólidos son más densos), capacidad calorífica (menor en sólidos), y tensión superficial (más alta en líquidos con fuerzas intermoleculares fuertes)."
      ],
      "metadata": {
        "id": "OeaMhYZYU7ie"
      }
    },
    {
      "cell_type": "markdown",
      "source": [
        "**6.\n",
        "¿Cuáles elementos pueden participar en los enlaces de\n",
        "hidrógeno? ¿Por qué el hidrógeno es único en este tipo\n",
        "de interacción?**"
      ],
      "metadata": {
        "id": "jNmNn_SVVbsM"
      }
    },
    {
      "cell_type": "markdown",
      "source": [
        "Elementos muy electronegativos (como O, N o F) y otro átomo electronegativo con un par de electrones solitarios. El hidrógeno es único en este tipo de interacción porque es el único elemento que tiene un protón y un electrón, lo que lo hace muy electropositivo."
      ],
      "metadata": {
        "id": "79qgdBR8V2Xd"
      }
    },
    {
      "cell_type": "markdown",
      "source": [
        "**7.\n",
        "¿Por qué los líquidos, a diferencia de los gases, son prácticamente incompresibles?**"
      ],
      "metadata": {
        "id": "WFCFVJLdRhEH"
      }
    },
    {
      "cell_type": "markdown",
      "source": [
        "En los líquidos, las partículas están más cerca y organizadas, lo que impide una compresión significativa, mientras que en los gases, las partículas están dispersas y pueden comprimirse más fácilmente debido a la gran separación entre ellas."
      ],
      "metadata": {
        "id": "d5J1X7YiRhXt"
      }
    },
    {
      "cell_type": "markdown",
      "source": [
        "**8.\n",
        "¿Qué es la tensión superficial? ¿Qué relación existe entre\n",
        "esta propiedad y las fuerzas intermoleculares? ¿Cómo\n",
        "cambia la tensión superficial con la temperatura?**"
      ],
      "metadata": {
        "id": "oxBpCCdmRhnH"
      }
    },
    {
      "cell_type": "markdown",
      "source": [
        "\n",
        "La tensión superficial es una propiedad de los líquidos que se debe a las fuerzas intermoleculares que actúan entre sus moléculas. Cuanto más fuertes sean las fuerzas intermoleculares, mayor será la tensión superficial. La tensión superficial disminuye con el aumento de la temperatura, ya que las moléculas del líquido tienen más energía cinética y se liberan de las fuerzas intermoleculares que las mantienen unidas."
      ],
      "metadata": {
        "id": "9E7veyKYRh3x"
      }
    },
    {
      "cell_type": "markdown",
      "source": [
        "**9.\n",
        "Un vaso se puede llenar con agua justo por encima del\n",
        "borde. ¿Por qué el agua no se derrama?**"
      ],
      "metadata": {
        "id": "EuOislRZW5ES"
      }
    },
    {
      "cell_type": "markdown",
      "source": [
        "Debido a la tensión superficial del agua, que crea una \"piel\" en la parte superior del agua que puede soportar cierta cantidad de peso sin derramarse. Sin embargo, agregar agua rápidamente o aplicar una fuerza puede romper esta tensión superficial y hacer que el agua se derrame afuera del vaso u otro recipiente."
      ],
      "metadata": {
        "id": "3XSA--nDW9_7"
      }
    },
    {
      "cell_type": "markdown",
      "source": [
        "**10.\n",
        "¿Por qué el hielo es menos denso que el agua?**"
      ],
      "metadata": {
        "id": "hOtUXpyfYiPA"
      }
    },
    {
      "cell_type": "markdown",
      "source": [
        "El hielo es menos denso que el agua en su estado líquido debido a la formación de estructuras de puentes de hidrógeno en el agua en estado sólido, que hacen que las moléculas de agua se separen más y formen una estructura hexagonal, lo que resulta en una menor densidad en comparación con el agua líquida. Este comportamiento inusual se debe a la naturaleza polar de las moléculas de agua y tiene importantes implicaciones en la naturaleza, como la congelación de cuerpos de agua desde la parte superior hacia abajo."
      ],
      "metadata": {
        "id": "rLrqKYn0W-TR"
      }
    },
    {
      "cell_type": "markdown",
      "source": [
        "**11.\n",
        "Describa brevemente el proceso de disolución a nivel\n",
        "molecular. Utilice como ejemplo la disolución de un\n",
        "sólido en un líquido.**"
      ],
      "metadata": {
        "id": "6lVnuuzQW-i8"
      }
    },
    {
      "cell_type": "markdown",
      "source": [
        "El proceso de disolución a nivel molecular implica la separación de partículas sólidas en un líquido debido a la energía cinética. Estas partículas sólidas interactúan con las partículas del líquido, formando una mezcla homogénea en la que las partículas sólidas se dispersan uniformemente en el líquido debido a las interacciones moleculares. Esto da como resultado la formación de una solución estable y homogénea. Por ejemplo al agregar azucar al agua y mezclarla."
      ],
      "metadata": {
        "id": "HKka7q6nW-9B"
      }
    },
    {
      "cell_type": "markdown",
      "source": [
        "**12.\n",
        "A partir de las fuerzas\n",
        "intermoleculares, explique el significado de \"lo semejante disuelve lo semejante\".**"
      ],
      "metadata": {
        "id": "k_xHK9b2XAU2"
      }
    },
    {
      "cell_type": "markdown",
      "source": [
        "\"Lo semejante disuelve lo semejante\" quiere decir que sustancias químicamente similares tienden a mezclarse y disolverse entre sí más fácilmente debido a las similitudes en sus fuerzas intermoleculares, como las fuerzas de Van der Waals o los enlaces de hidrógeno. Por otro lado, sustancias químicamente diferentes tienen más dificultades para mezclarse y disolverse mutuamente."
      ],
      "metadata": {
        "id": "y2W4lJJqXASg"
      }
    },
    {
      "cell_type": "markdown",
      "source": [
        "**13.\n",
        "Explique por qué el proceso de disolución invariablemente conduce a un aumento en el desorden.**"
      ],
      "metadata": {
        "id": "6eNpRQf7XAPb"
      }
    },
    {
      "cell_type": "markdown",
      "source": [
        "El proceso de disolución conduce a un aumento en el desorden debido a la dispersión de las partículas del soluto en el disolvente, lo que incrementa la mezcla molecular, la energía cinética de las partículas y el número de microestados posibles, todo lo cual aumenta la entropía y el desorden del sistema, de acuerdo con la Segunda Ley de la Termodinámica."
      ],
      "metadata": {
        "id": "LH0NrDEwXAMA"
      }
    },
    {
      "cell_type": "markdown",
      "source": [
        "**14.\n",
        "Describa los factores que afectan la solubilidad de un\n",
        "sólido en un líquido. ¿Qué significa decir que dos líquidos son miscibles?**"
      ],
      "metadata": {
        "id": "eCEuRLbnXAIZ"
      }
    },
    {
      "cell_type": "markdown",
      "source": [
        "Está influenciada por factores como la temperatura, la presión, el tamaño de partículas y la agitación. La miscibilidad entre dos líquidos significa que pueden mezclarse en cualquier proporción para formar una solución homogénea si tienen propiedades químicas y fuerzas intermoleculares similares, mientras que la inmiscibilidad implica que los líquidos no pueden mezclarse de manera homogénea debido a diferencias en sus propiedades."
      ],
      "metadata": {
        "id": "pgSTSd43XADA"
      }
    },
    {
      "cell_type": "markdown",
      "source": [
        "**15.\n",
        "Describa brevemente los pasos que se requieren para la\n",
        "conversión entre molaridad, molalidad y porcentaje\n",
        "masa.**"
      ],
      "metadata": {
        "id": "WnCiYtFlW_Pw"
      }
    },
    {
      "cell_type": "markdown",
      "source": [
        "**Molaridad (M): Número de moles de soluto por litro de solución.**\n",
        "\n",
        "**Molalidad (m): Número de moles de soluto por kilogramo de solvente.**\n",
        "\n",
        "**Porcentaje masa (% m/m): Porcentaje de masa de soluto en la solución.**\n",
        "\n",
        "**Pasos para la conversión**\n",
        "\n",
        "\n",
        "De molaridad a molalidad:\n",
        "\n",
        "m = M * (densidad de la solución)\n",
        "\n",
        "De molalidad a molaridad:\n",
        "\n",
        "M = m / (densidad de la solución)\n",
        "\n",
        "De molaridad a porcentaje masa:\n",
        "\n",
        "% m/m = M * masa molar del soluto * 100\n",
        "\n",
        "De porcentaje masa a molaridad:\n",
        "\n",
        "M = % m/m / masa molar del soluto\n",
        "\n",
        "De porcentaje masa a molalidad:\n",
        "\n",
        "m = % m/m * (densidad de la solución) / masa molar del soluto"
      ],
      "metadata": {
        "id": "85wZ7aj0W_x4"
      }
    },
    {
      "cell_type": "markdown",
      "source": [
        "**16.\n",
        "Calcule el porcentaje en masa de soluto en cada una de\n",
        "las siguientes disoluciones acuosas: a) 5.50 g de NaBr\n",
        "en 78.2 g de disolución, b) 31.0 g de KCl en 152 g de\n",
        "agua, c) 4.5 g de tolueno en 29 g de benceno.**"
      ],
      "metadata": {
        "id": "Ya0TAWh0ZOhA"
      }
    },
    {
      "cell_type": "code",
      "source": [
        "# Función para calcular el porcentaje en masa\n",
        "def calcular_porcentaje(peso_soluto, peso_solucion):\n",
        "    return (peso_soluto / peso_solucion) * 100\n",
        "\n",
        "# Datos para cada disolución\n",
        "a_soluto = 5.50\n",
        "a_solucion = 78.2\n",
        "\n",
        "b_soluto = 31.0\n",
        "b_solucion = 152.0\n",
        "\n",
        "c_soluto = 4.5\n",
        "c_solucion = 29.0\n",
        "\n",
        "# Cálculo de los porcentajes en masa\n",
        "porcentaje_a = calcular_porcentaje(a_soluto, a_solucion)\n",
        "porcentaje_b = calcular_porcentaje(b_soluto, b_solucion)\n",
        "porcentaje_c = calcular_porcentaje(c_soluto, c_solucion)\n",
        "\n",
        "# Imprimir los resultados\n",
        "print(f'a) Porcentaje en masa de NaBr: {porcentaje_a:.2f}%')\n",
        "print(f'b) Porcentaje en masa de KCl: {porcentaje_b:.2f}%')\n",
        "print(f'c) Porcentaje en masa de tolueno: {porcentaje_c:.2f}%')"
      ],
      "metadata": {
        "colab": {
          "base_uri": "https://localhost:8080/"
        },
        "id": "fOqINT6ccvI5",
        "outputId": "fc393a05-e745-49b0-a0c3-fec13036ad4a"
      },
      "execution_count": 1,
      "outputs": [
        {
          "output_type": "stream",
          "name": "stdout",
          "text": [
            "a) Porcentaje en masa de NaBr: 7.03%\n",
            "b) Porcentaje en masa de KCl: 20.39%\n",
            "c) Porcentaje en masa de tolueno: 15.52%\n"
          ]
        }
      ]
    },
    {
      "cell_type": "markdown",
      "source": [
        "**17.\n",
        "Defina los siguientes términos de concentración y especifique sus unidades: \"porcentaje en masa\", \"fracción\n",
        "molar\", \"molaridad\" y \"molalidad\". Compare sus ventajas y sus desventajas.**"
      ],
      "metadata": {
        "id": "PxYpvZwZZOcZ"
      }
    },
    {
      "cell_type": "markdown",
      "source": [
        "**Porcentaje en masa (o % en masa):**\n",
        "\n",
        "Unidad: Porcentaje (%)\n",
        "\n",
        "Fórmula: (% en masa) = (masa del soluto / masa total de la\n",
        "solución) * 100%\n",
        "\n",
        "Ventajas: Es una medida fácil de entender y calcular.\n",
        "\n",
        "Permite expresar la concentración en términos de masa, lo\n",
        "que es útil en muchas aplicaciones prácticas.\n",
        "\n",
        "Desventajas: No tiene en cuenta el número de moles de soluto\n",
        "ni el volumen de la solución, lo que puede llevar a\n",
        "inexactitudes si se comparan soluciones de diferentes\n",
        "sustancias.\n",
        "\n",
        "**Fracción molar:**\n",
        "\n",
        "Unidad: Adimensional (no tiene unidad)\n",
        "\n",
        "Fórmula: Fracción molar (X) = (moles del soluto / moles\n",
        "totales en la solución)\n",
        "\n",
        "Ventajas: La fracción molar es independiente de la sustancia específica y proporciona una descripción precisa de la proporción de moles de soluto en la solución. Se utiliza comúnmente en termodinámica y cálculos estequiométricos.\n",
        "\n",
        "Desventajas: Puede ser más abstracta para algunos y no proporciona información sobre la concentración en términos de masa o volumen directamente.\n",
        "\n",
        "**Molaridad (M):**\n",
        "\n",
        "Unidad: Moles por litro (mol/L)\n",
        "\n",
        "Fórmula: Molaridad (M) = (moles de soluto / volumen de la solución en litros)\n",
        "\n",
        "Ventajas: Proporciona información sobre el número de moles de soluto en un volumen específico de solución, lo que es útil en reacciones químicas y cálculos estequiométricos.\n",
        "\n",
        "Desventajas: No tiene en cuenta la temperatura o el cambio de volumen debido a la dilución, lo que puede ser problemático en algunas situaciones.\n",
        "\n",
        "**Molalidad (m):*\n",
        "\n",
        "Unidad: Moles por kilogramo (mol/kg)\n",
        "\n",
        "Fórmula: Molalidad (m) = (moles de soluto / masa del solvente en kilogramos)\n",
        "\n",
        "Ventajas: La molalidad es independiente de la temperatura y no cambia con la dilución, lo que la hace útil en soluciones a diferentes temperaturas. Además, es especialmente relevante en termodinámica y coligativas.\n",
        "\n",
        "Desventajas: No proporciona información directa sobre el volumen de la solución, por lo que puede no ser la elección adecuada en algunas aplicaciones."
      ],
      "metadata": {
        "id": "4ZwU5Ok6ZOKL"
      }
    },
    {
      "cell_type": "markdown",
      "source": [
        "**18.\n",
        "Calcule la cantidad de agua (en gramos) que se debe agregar a:**\n",
        "\n",
        "**a) 5.00 g de urea (NH₂)2CO para preparar una disolución al 16.2% en masa y b) 26.2 g de MgCl2\n",
        "para preparar una disolución al 1.5% en masa.**"
      ],
      "metadata": {
        "id": "vW3dXqxdZOGO"
      }
    },
    {
      "cell_type": "code",
      "source": [
        "m_u = 5.00  # g\n",
        "c = 16.2  # %\n",
        "c_agua = (m_u / (c / 100)) - m_u\n",
        "print(f\"Cantidad de agua necesaria: {c_agua:.2f} g\")"
      ],
      "metadata": {
        "colab": {
          "base_uri": "https://localhost:8080/"
        },
        "id": "fOXMGnQ4gyqg",
        "outputId": "0f67545d-4c8f-4c07-dafe-0d0b4fdacfdd"
      },
      "execution_count": 15,
      "outputs": [
        {
          "output_type": "stream",
          "name": "stdout",
          "text": [
            "Cantidad de agua necesaria: 25.86 g\n"
          ]
        }
      ]
    },
    {
      "cell_type": "code",
      "source": [
        "m_MgCl2 = 26.2  # g\n",
        "c = 1.5  # %\n",
        "\n",
        "c_agua = (m_MgCl2 / (c / 100)) - m_MgCl2\n",
        "\n",
        "print(f\"Cantidad de agua necesaria: {c_agua:.2f} g\")"
      ],
      "metadata": {
        "colab": {
          "base_uri": "https://localhost:8080/"
        },
        "id": "JKehm2qsgy2V",
        "outputId": "12083057-5ef7-4cd0-8ef5-9c870a69fab7"
      },
      "execution_count": 14,
      "outputs": [
        {
          "output_type": "stream",
          "name": "stdout",
          "text": [
            "Cantidad de agua necesaria: 1720.47 g\n"
          ]
        }
      ]
    },
    {
      "cell_type": "markdown",
      "source": [
        "**19.\n",
        "Calcule la molalidad de cada una de las siguientes disoluciones:**\n",
        "\n",
        "**a) 14.3 g de sacarosa (C₁2H22O11) en 676 g de\n",
        "agua, b) 7.20 moles de etilenglicol (C₂H₂O₂) en 3 546 g\n",
        "de agua.**"
      ],
      "metadata": {
        "id": "95J7SDZuZSdv"
      }
    },
    {
      "cell_type": "code",
      "source": [
        "m_sacarosa = 14.3\n",
        "m_agua_a = 676\n",
        "m_etilenglicol = 7.20\n",
        "m_agua_b = 3546\n",
        "\n",
        "molalidad_a = m_etilenglicol / (m_agua_a / 1000)\n",
        "molalidad_b = m_etilenglicol / (m_agua_b / 1000)\n",
        "\n",
        "print(\"Molalidad a:\", round(molalidad_a,2), \"mol/kg\")\n",
        "print(\"Molalidad b:\", round(molalidad_b,2), \"mol/kg\")\n"
      ],
      "metadata": {
        "colab": {
          "base_uri": "https://localhost:8080/"
        },
        "id": "zT3d-RUvhjSN",
        "outputId": "3632a6e5-5ab3-4f72-d134-d90e606d89d8"
      },
      "execution_count": 17,
      "outputs": [
        {
          "output_type": "stream",
          "name": "stdout",
          "text": [
            "Molalidad a: 10.65 mol/kg\n",
            "Molalidad b: 2.03 mol/kg\n"
          ]
        }
      ]
    },
    {
      "cell_type": "markdown",
      "source": [
        "**20.\n",
        "Calcule la molalidad de cada una de las siguientes disoluciones acuosas:**\n",
        "\n",
        "**a) disolución de NaCl 2.50 M (densidad de la disolución = 1.08 g/mL), b) disolución de\n",
        "KBr al 48.2% en masa.**"
      ],
      "metadata": {
        "id": "HDzByowdZSRt"
      }
    },
    {
      "cell_type": "code",
      "source": [
        "molaridad_a = 2.50\n",
        "densidad_a = 1.08\n",
        "masa_kbr_b = 48.2\n",
        "masa_solucion_b = 100\n",
        "masa_molar_kbr = 119.01\n",
        "\n",
        "moles_nacl_a = molaridad_a * 1.08\n",
        "masa_solvente_a = 1000 - moles_nacl_a\n",
        "molalidad_a = moles_nacl_a / masa_solvente_a\n",
        "\n",
        "masa_kbr_en_100g = (masa_kbr_b / 100) * masa_solucion_b\n",
        "moles_kbr_b = masa_kbr_en_100g / masa_molar_kbr\n",
        "masa_solvente_b = 100 - masa_kbr_en_100g\n",
        "molalidad_b = moles_kbr_b / (masa_solvente_b / 1000)\n",
        "\n",
        "print(\"Molalidad a:\", round(molalidad_a,2), \"mol/kg\")\n",
        "print(\"Molalidad b:\", round(molalidad_b,2), \"mol/kg\")"
      ],
      "metadata": {
        "colab": {
          "base_uri": "https://localhost:8080/"
        },
        "id": "_jO0WbZHihVV",
        "outputId": "d1f6635b-56a4-448b-e3c0-e25c438fa4c3"
      },
      "execution_count": 19,
      "outputs": [
        {
          "output_type": "stream",
          "name": "stdout",
          "text": [
            "Molalidad a: 0.0 mol/kg\n",
            "Molalidad b: 7.82 mol/kg\n"
          ]
        }
      ]
    },
    {
      "cell_type": "markdown",
      "source": [
        "**21.\n",
        "**"
      ],
      "metadata": {
        "id": "aNvoDeoNZNx-"
      }
    },
    {
      "cell_type": "markdown",
      "source": [],
      "metadata": {
        "id": "-w4d6eVOZVdB"
      }
    },
    {
      "cell_type": "code",
      "execution_count": null,
      "metadata": {
        "id": "vvNOz8t6NSvo"
      },
      "outputs": [],
      "source": []
    }
  ]
}