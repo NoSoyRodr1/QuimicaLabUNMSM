{
  "cells": [
    {
      "cell_type": "markdown",
      "metadata": {
        "id": "view-in-github",
        "colab_type": "text"
      },
      "source": [
        "<a href=\"https://colab.research.google.com/github/NoSoyRodr1/QuimicaLabUNMSM/blob/main/PC_Electroquimica.ipynb\" target=\"_parent\"><img src=\"https://colab.research.google.com/assets/colab-badge.svg\" alt=\"Open In Colab\"/></a>"
      ]
    },
    {
      "cell_type": "code",
      "source": [
        "#Enunciado\n",
        "# Tema: Semireacciones\n",
        "\n",
        "\"\"\"input: ingresar los reactivos y productos\n",
        "\n",
        "           reactivos = A, B\n",
        "\n",
        "           productos = A*, B**\n",
        "\n",
        "output: imprimir las semireacciones\n",
        "\n",
        "           reducción: A* + *e- -> A\n",
        "\n",
        "           oxidacion: B -> B** + **e-\n",
        "\n",
        "ojo: los electrones deben ser calculados por la diferencia en los estados de oxidación\"\"\""
      ],
      "metadata": {
        "id": "A26Y1AAE1XGE"
      },
      "execution_count": null,
      "outputs": []
    },
    {
      "cell_type": "code",
      "source": [
        "def ingresar_elemento():\n",
        "    elemento = input(\"Ingrese un elemento (o 'fin' para terminar): \")\n",
        "    if elemento.lower() == 'fin':\n",
        "        return None\n",
        "    estado_oxidacion = int(input(f\"Ingrese el estado de oxidación para {elemento}: \"))\n",
        "    return elemento, estado_oxidacion\n",
        "\n",
        "def obtener_lista_elementos():\n",
        "    lista_elementos = []\n",
        "\n",
        "    while True:\n",
        "        elemento = ingresar_elemento()\n",
        "\n",
        "        if elemento is None:\n",
        "            break\n",
        "\n",
        "        lista_elementos.append(elemento)\n",
        "\n",
        "    return lista_elementos\n",
        "\n",
        "\n",
        "print(\"Ingrese los reactantes (ingrese 'fin' para terminar):\")\n",
        "reactantes = obtener_lista_elementos()\n",
        "\n",
        "\n",
        "print(\"Ingrese los productos (ingrese 'fin' para terminar):\")\n",
        "productos = obtener_lista_elementos()\n",
        "\n",
        "\n",
        "print(\"\\nReactantes:\", \" + \".join([f\"{elemento}^{{{estado}}}\" for elemento, estado in reactantes]))\n",
        "print(\"Productos:\", \" + \".join([f\"{elemento}^{{{estado}}}\" for elemento, estado in productos]))\n",
        "\n",
        "\n",
        "cambios_estado_oxidacion = []\n",
        "\n",
        "for reactante, producto in zip(reactantes, productos):\n",
        "    elemento_reactante, estado_reactante = reactante\n",
        "    elemento_producto, estado_producto = producto\n",
        "\n",
        "    if estado_reactante < estado_producto:\n",
        "        diferencia_electrones = estado_producto - estado_reactante\n",
        "        cambio = f\"oxidación: {elemento_reactante}^{{{estado_reactante}}}  -> {elemento_producto}^{{{estado_producto}}} + {diferencia_electrones}e-\"\n",
        "        cambios_estado_oxidacion.append(cambio)\n",
        "    elif estado_reactante > estado_producto:\n",
        "        diferencia_electrones = estado_reactante - estado_producto\n",
        "        cambio = f\"reducción: {elemento_reactante}^{{{estado_reactante}}} + {diferencia_electrones}e- -> {elemento_producto}^{{{estado_producto}}}\"\n",
        "        cambios_estado_oxidacion.append(cambio)\n",
        "\n",
        "print(\"\\nSemirreacciones de oxidación y reducción:\")\n",
        "for cambio in cambios_estado_oxidacion:\n",
        "    print(cambio)"
      ],
      "metadata": {
        "colab": {
          "base_uri": "https://localhost:8080/"
        },
        "id": "1Lw6ETXC53Rn",
        "outputId": "209db3f1-5974-408f-9488-e3b3acc0209f"
      },
      "execution_count": null,
      "outputs": [
        {
          "output_type": "stream",
          "name": "stdout",
          "text": [
            "Ingrese los reactantes (ingrese 'fin' para terminar):\n",
            "Ingrese un elemento (o 'fin' para terminar): Al\n",
            "Ingrese el estado de oxidación para Al: 3\n",
            "Ingrese un elemento (o 'fin' para terminar): Cu\n",
            "Ingrese el estado de oxidación para Cu: 1\n",
            "Ingrese un elemento (o 'fin' para terminar): fin\n",
            "Ingrese los productos (ingrese 'fin' para terminar):\n",
            "Ingrese un elemento (o 'fin' para terminar): Al\n",
            "Ingrese el estado de oxidación para Al: 1\n",
            "Ingrese un elemento (o 'fin' para terminar): Cu\n",
            "Ingrese el estado de oxidación para Cu: 3\n",
            "Ingrese un elemento (o 'fin' para terminar): fin\n",
            "\n",
            "Reactantes: Al^{3} + Cu^{1}\n",
            "Productos: Al^{1} + Cu^{3}\n",
            "\n",
            "Semirreacciones de oxidación y reducción:\n",
            "reducción: Al^{3} + 2e- -> Al^{1}\n",
            "oxidación: Cu^{1}  -> Cu^{3} + 2e-\n"
          ]
        }
      ]
    }
  ],
  "metadata": {
    "colab": {
      "provenance": [],
      "include_colab_link": true
    },
    "kernelspec": {
      "display_name": "Python 3",
      "name": "python3"
    },
    "language_info": {
      "name": "python"
    }
  },
  "nbformat": 4,
  "nbformat_minor": 0
}