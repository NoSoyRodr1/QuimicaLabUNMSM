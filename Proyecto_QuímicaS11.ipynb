{
  "nbformat": 4,
  "nbformat_minor": 0,
  "metadata": {
    "colab": {
      "provenance": [],
      "authorship_tag": "ABX9TyPBdx01gM5HLNa2E3t6SUAX",
      "include_colab_link": true
    },
    "kernelspec": {
      "name": "python3",
      "display_name": "Python 3"
    },
    "language_info": {
      "name": "python"
    },
    "widgets": {
      "application/vnd.jupyter.widget-state+json": {
        "9ac22c904c7548fe9be4770c173d2ab8": {
          "model_module": "@jupyter-widgets/controls",
          "model_name": "VBoxModel",
          "model_module_version": "1.5.0",
          "state": {
            "_dom_classes": [
              "widget-interact"
            ],
            "_model_module": "@jupyter-widgets/controls",
            "_model_module_version": "1.5.0",
            "_model_name": "VBoxModel",
            "_view_count": null,
            "_view_module": "@jupyter-widgets/controls",
            "_view_module_version": "1.5.0",
            "_view_name": "VBoxView",
            "box_style": "",
            "children": [
              "IPY_MODEL_26b330d4d4da44cea5105d32551b210a",
              "IPY_MODEL_77402006b0aa4999b40c018ff7d0ee71"
            ],
            "layout": "IPY_MODEL_0b1294be7bda410d90e88fc6bb7e66e1"
          }
        },
        "26b330d4d4da44cea5105d32551b210a": {
          "model_module": "@jupyter-widgets/controls",
          "model_name": "IntSliderModel",
          "model_module_version": "1.5.0",
          "state": {
            "_dom_classes": [],
            "_model_module": "@jupyter-widgets/controls",
            "_model_module_version": "1.5.0",
            "_model_name": "IntSliderModel",
            "_view_count": null,
            "_view_module": "@jupyter-widgets/controls",
            "_view_module_version": "1.5.0",
            "_view_name": "IntSliderView",
            "continuous_update": true,
            "description": "pH:",
            "description_tooltip": null,
            "disabled": false,
            "layout": "IPY_MODEL_2dae867c1b1d40bf9a0ddc242a851789",
            "max": 14,
            "min": 0,
            "orientation": "horizontal",
            "readout": true,
            "readout_format": "d",
            "step": 1,
            "style": "IPY_MODEL_2500db310a60406cb0dec76bcda129ac",
            "value": 7
          }
        },
        "77402006b0aa4999b40c018ff7d0ee71": {
          "model_module": "@jupyter-widgets/output",
          "model_name": "OutputModel",
          "model_module_version": "1.0.0",
          "state": {
            "_dom_classes": [],
            "_model_module": "@jupyter-widgets/output",
            "_model_module_version": "1.0.0",
            "_model_name": "OutputModel",
            "_view_count": null,
            "_view_module": "@jupyter-widgets/output",
            "_view_module_version": "1.0.0",
            "_view_name": "OutputView",
            "layout": "IPY_MODEL_2d8787ebd7d94df1a4efe1f462a978d9",
            "msg_id": "",
            "outputs": [
              {
                "output_type": "display_data",
                "data": {
                  "text/plain": "<Figure size 200x200 with 1 Axes>",
                  "image/png": "iVBORw0KGgoAAAANSUhEUgAAAK8AAACuCAYAAABAzl3QAAAAOXRFWHRTb2Z0d2FyZQBNYXRwbG90bGliIHZlcnNpb24zLjcuMSwgaHR0cHM6Ly9tYXRwbG90bGliLm9yZy/bCgiHAAAACXBIWXMAAA9hAAAPYQGoP6dpAAAB/klEQVR4nO3bwQmEUAxAQb9s32Ll2R5UkIczBYQcHrllzcxsELS/vQBcJV6yxEuWeMkSL1niJUu8ZImXLPGSJV6yxEuWeMkSL1niJUu8ZImXrN8TQ9a5nhjDh8xx/wfC5SVLvGSJlyzxkiVessRLlnjJEi9Z4iVLvGSJlyzxkiVessRLlnjJEi9Z4iVLvGSJlyzxkiVessRLlnjJEi9Z4iVLvGSJlyzxkiVessRLlnjJEi9Z4iVLvGSJlyzxkiVessRLlnjJEi9Z4iVLvGSJlyzxkiVessRLlnjJEi9Z4iVLvGSJlyzxkiVessRLlnjJEi9Z4iVLvGSJlyzxkiVessRLlnjJEi9Z4iVLvGSJlyzxkiVessRLlnjJEi9Z4iVLvGSJlyzxkiVessRLlnjJEi9Z4iVLvGSJlyzxkiVessRLlnjJEi9Z4iVLvGSJlyzxkiVessRLlnjJEi9Z4iVLvGSJlyzxkiVessRLlnjJEi9Z4iVLvGSJlyzxkiVessRLlnjJEi9Z4iVLvGSJlyzxkiVessRLlnjJEi9Z4iVLvGSJlyzxkiVessRLlnjJEi9Z4iVLvGSJlyzxkiVessRLlnjJEi9Z4iVLvGSJlyzxkiVessRLlnjJEi9Z4iVLvGStmZm3l4ArXF6yxEuWeMkSL1niJUu8ZImXLPGSJV6y/qOGDFXzatI9AAAAAElFTkSuQmCC\n"
                },
                "metadata": {}
              },
              {
                "output_type": "stream",
                "name": "stdout",
                "text": [
                  "pH 7 (Neutro)\n"
                ]
              }
            ]
          }
        },
        "0b1294be7bda410d90e88fc6bb7e66e1": {
          "model_module": "@jupyter-widgets/base",
          "model_name": "LayoutModel",
          "model_module_version": "1.2.0",
          "state": {
            "_model_module": "@jupyter-widgets/base",
            "_model_module_version": "1.2.0",
            "_model_name": "LayoutModel",
            "_view_count": null,
            "_view_module": "@jupyter-widgets/base",
            "_view_module_version": "1.2.0",
            "_view_name": "LayoutView",
            "align_content": null,
            "align_items": null,
            "align_self": null,
            "border": null,
            "bottom": null,
            "display": null,
            "flex": null,
            "flex_flow": null,
            "grid_area": null,
            "grid_auto_columns": null,
            "grid_auto_flow": null,
            "grid_auto_rows": null,
            "grid_column": null,
            "grid_gap": null,
            "grid_row": null,
            "grid_template_areas": null,
            "grid_template_columns": null,
            "grid_template_rows": null,
            "height": null,
            "justify_content": null,
            "justify_items": null,
            "left": null,
            "margin": null,
            "max_height": null,
            "max_width": null,
            "min_height": null,
            "min_width": null,
            "object_fit": null,
            "object_position": null,
            "order": null,
            "overflow": null,
            "overflow_x": null,
            "overflow_y": null,
            "padding": null,
            "right": null,
            "top": null,
            "visibility": null,
            "width": null
          }
        },
        "2dae867c1b1d40bf9a0ddc242a851789": {
          "model_module": "@jupyter-widgets/base",
          "model_name": "LayoutModel",
          "model_module_version": "1.2.0",
          "state": {
            "_model_module": "@jupyter-widgets/base",
            "_model_module_version": "1.2.0",
            "_model_name": "LayoutModel",
            "_view_count": null,
            "_view_module": "@jupyter-widgets/base",
            "_view_module_version": "1.2.0",
            "_view_name": "LayoutView",
            "align_content": null,
            "align_items": null,
            "align_self": null,
            "border": null,
            "bottom": null,
            "display": null,
            "flex": null,
            "flex_flow": null,
            "grid_area": null,
            "grid_auto_columns": null,
            "grid_auto_flow": null,
            "grid_auto_rows": null,
            "grid_column": null,
            "grid_gap": null,
            "grid_row": null,
            "grid_template_areas": null,
            "grid_template_columns": null,
            "grid_template_rows": null,
            "height": null,
            "justify_content": null,
            "justify_items": null,
            "left": null,
            "margin": null,
            "max_height": null,
            "max_width": null,
            "min_height": null,
            "min_width": null,
            "object_fit": null,
            "object_position": null,
            "order": null,
            "overflow": null,
            "overflow_x": null,
            "overflow_y": null,
            "padding": null,
            "right": null,
            "top": null,
            "visibility": null,
            "width": null
          }
        },
        "2500db310a60406cb0dec76bcda129ac": {
          "model_module": "@jupyter-widgets/controls",
          "model_name": "SliderStyleModel",
          "model_module_version": "1.5.0",
          "state": {
            "_model_module": "@jupyter-widgets/controls",
            "_model_module_version": "1.5.0",
            "_model_name": "SliderStyleModel",
            "_view_count": null,
            "_view_module": "@jupyter-widgets/base",
            "_view_module_version": "1.2.0",
            "_view_name": "StyleView",
            "description_width": "",
            "handle_color": null
          }
        },
        "2d8787ebd7d94df1a4efe1f462a978d9": {
          "model_module": "@jupyter-widgets/base",
          "model_name": "LayoutModel",
          "model_module_version": "1.2.0",
          "state": {
            "_model_module": "@jupyter-widgets/base",
            "_model_module_version": "1.2.0",
            "_model_name": "LayoutModel",
            "_view_count": null,
            "_view_module": "@jupyter-widgets/base",
            "_view_module_version": "1.2.0",
            "_view_name": "LayoutView",
            "align_content": null,
            "align_items": null,
            "align_self": null,
            "border": null,
            "bottom": null,
            "display": null,
            "flex": null,
            "flex_flow": null,
            "grid_area": null,
            "grid_auto_columns": null,
            "grid_auto_flow": null,
            "grid_auto_rows": null,
            "grid_column": null,
            "grid_gap": null,
            "grid_row": null,
            "grid_template_areas": null,
            "grid_template_columns": null,
            "grid_template_rows": null,
            "height": null,
            "justify_content": null,
            "justify_items": null,
            "left": null,
            "margin": null,
            "max_height": null,
            "max_width": null,
            "min_height": null,
            "min_width": null,
            "object_fit": null,
            "object_position": null,
            "order": null,
            "overflow": null,
            "overflow_x": null,
            "overflow_y": null,
            "padding": null,
            "right": null,
            "top": null,
            "visibility": null,
            "width": null
          }
        }
      }
    }
  },
  "cells": [
    {
      "cell_type": "markdown",
      "metadata": {
        "id": "view-in-github",
        "colab_type": "text"
      },
      "source": [
        "<a href=\"https://colab.research.google.com/github/NoSoyRodr1/QuimicaLabUNMSM/blob/main/Proyecto_Qu%C3%ADmicaS11.ipynb\" target=\"_parent\"><img src=\"https://colab.research.google.com/assets/colab-badge.svg\" alt=\"Open In Colab\"/></a>"
      ]
    },
    {
      "cell_type": "code",
      "source": [
        "%%capture\n",
        "!pip install chempy"
      ],
      "metadata": {
        "id": "smTr8RKjWOZ_"
      },
      "execution_count": 15,
      "outputs": []
    },
    {
      "cell_type": "code",
      "source": [
        "from chempy import Substance"
      ],
      "metadata": {
        "id": "sdH_M8-5Ybfk"
      },
      "execution_count": 12,
      "outputs": []
    },
    {
      "cell_type": "code",
      "execution_count": 14,
      "metadata": {
        "colab": {
          "base_uri": "https://localhost:8080/"
        },
        "id": "FYcqATGXINJe",
        "outputId": "3ea50646-3351-4bf5-dbf2-fff31a3d536c"
      },
      "outputs": [
        {
          "output_type": "stream",
          "name": "stdout",
          "text": [
            "Bienvenido al Calculador de Molaridad y Normalidad\n",
            "--------------------------------------------------\n",
            "Menú:\n",
            "1. Calcular para Hidróxido\n",
            "2. Calcular para Ácido\n",
            "3. Calcular para Sal\n",
            "4. Salir\n",
            "Selecciona una opción (1/2/3/4): 2\n",
            "--------------------------------------------------\n",
            "Has seleccionado calcular para Ácido\n",
            "--------------------------------------------------\n",
            "Ingrese la cantidad de soluto en gramos: 80\n",
            "Ingrese el volumen de la solución en litros: 0.5\n",
            "Ingrese el soluto: H3PO4\n",
            "Ingrese el número de hidrógenos(H): 3\n",
            "Resultados:\n",
            "Molaridad: 1.633 M\n",
            "Normalidad: 4.898 N\n",
            "--------------------------------------------------\n"
          ]
        }
      ],
      "source": [
        "#El bucle se ejecutará de manera continua hasta que se elija la opción 4 o se termine alguna operación\n",
        "while True:\n",
        "    #Interfaz\n",
        "    print(\"Bienvenido al Calculador de Molaridad y Normalidad\")\n",
        "    print(\"--------------------------------------------------\")\n",
        "    print(\"Menú:\")\n",
        "    print(\"1. Calcular para Hidróxido\")\n",
        "    print(\"2. Calcular para Ácido\")\n",
        "    print(\"3. Calcular para Sal\")\n",
        "    print(\"4. Salir\")\n",
        "\n",
        "    #Selección de opción\n",
        "    opcion = input(\"Selecciona una opción (1/2/3/4): \")\n",
        "    print(\"--------------------------------------------------\")\n",
        "\n",
        "    #Operación para hidróxido\n",
        "    if opcion == \"1\":\n",
        "        print(\"Has seleccionado calcular para Hidróxido\")\n",
        "        print(\"--------------------------------------------------\")\n",
        "        #Entrada de datos\n",
        "        masag = float(input(\"Ingrese la cantidad de soluto en gramos: \"))\n",
        "        vol = float(input(\"Ingrese el volumen de la solución en litros: \"))\n",
        "        soluto = input(\"Ingrese el soluto: \")\n",
        "        soluto_new = (Substance.from_formula(soluto))  #Convierte la formula en una sustancia\n",
        "        masamol = soluto_new.mass  #Se obtiene la masa molecular\n",
        "        parametro = int(input(\"Ingrese el número de OH: \"))\n",
        "        #Operaciones para hallar molaridad y normalidad\n",
        "        molaridad = (masag / masamol) / vol\n",
        "        normalidad = (masag) / ((masamol / parametro) * vol)\n",
        "        #Imprimir resultados en consola\n",
        "        print(\"Resultados:\")\n",
        "        print(f\"Molaridad: {round(molaridad, 3)} M\")\n",
        "        print(f\"Normalidad: {round(normalidad, 3)} N\")\n",
        "        print(\"--------------------------------------------------\")\n",
        "        #Finaliza el programa\n",
        "        break\n",
        "\n",
        "    #Operación para ácidos\n",
        "    elif opcion == \"2\":\n",
        "        print(\"Has seleccionado calcular para Ácido\")\n",
        "        print(\"--------------------------------------------------\")\n",
        "        #Entrada de datos\n",
        "        masag = float(input(\"Ingrese la cantidad de soluto en gramos: \"))\n",
        "        vol = float(input(\"Ingrese el volumen de la solución en litros: \"))\n",
        "        soluto = input(\"Ingrese el soluto: \")\n",
        "        soluto_new = (Substance.from_formula(soluto))  #Convierte la formula en una sustancia\n",
        "        masamol = soluto_new.mass  #Se obtiene la masa molecular\n",
        "        parametro = int(input(\"Ingrese el número de hidrógenos (H): \"))\n",
        "        #Operaciones para hallar molaridad y normalidad\n",
        "        molaridad = (masag / masamol) / vol\n",
        "        normalidad = (masag) / ((masamol / parametro) * vol)\n",
        "        #Imprimir resultados en consola\n",
        "        print(\"Resultados:\")\n",
        "        print(f\"Molaridad: {round(molaridad, 3)} M\")\n",
        "        print(f\"Normalidad: {round(normalidad, 3)} N\")\n",
        "        print(\"--------------------------------------------------\")\n",
        "        #Finaliza el programa\n",
        "        break\n",
        "\n",
        "    #Operación para sales\n",
        "    elif opcion == \"3\":\n",
        "        print(\"Has seleccionado calcular para Sal\")\n",
        "        print(\"--------------------------------------------------\")\n",
        "        #Entrada de datos\n",
        "        masag = float(input(\"Ingrese la cantidad de soluto en gramos: \"))\n",
        "        vol = float(input(\"Ingrese el volumen de la solución en litros: \"))\n",
        "        soluto = input(\"Ingrese el soluto: \")\n",
        "        soluto_new = (Substance.from_formula(soluto))  #Convierte la formula en una sustancia\n",
        "        masamol = soluto_new.mass  #Se obtiene la masa molecular\n",
        "        parametro = int(input(\"Ingrese la carga neta: \"))\n",
        "        #Operaciones para hallar molaridad y normalidad\n",
        "        molaridad = (masag / masamol) / vol\n",
        "        normalidad = (masag) / ((masamol / parametro) * vol)\n",
        "        #Imprimir resultados en consola\n",
        "        print(\"Resultados:\")\n",
        "        print(f\"Molaridad: {round(molaridad, 3)} M\")\n",
        "        print(f\"Normalidad: {round(normalidad, 3)} N\")\n",
        "        print(\"--------------------------------------------------\")\n",
        "        #Finaliza el programa\n",
        "        break\n",
        "\n",
        "    #Salir\n",
        "    elif opcion == \"4\":\n",
        "        print(\"Saliendo del programa. ¡Adiós!\")\n",
        "        ##Finaliza el programa\n",
        "        break\n",
        "\n",
        "    #Para evitar que coloquen algún otro valor distinto a los ofrecidos\n",
        "    else:\n",
        "        print(\"Opción no válida. Por favor, selecciona una opción válida (1/2/3/4)\")\n"
      ]
    },
    {
      "cell_type": "code",
      "source": [
        "#Importamos las bibliotecas necesarias\n",
        "import ipywidgets as widgets  #Libreria ara crear widgets interactivos en Jupyter Notebook\n",
        "import matplotlib.pyplot as plt  #Libreria para crear gráficos\n",
        "from IPython.display import display  #Libreria para mostrar widgets en Jupyter Notebook\n",
        "import numpy as np  #Libreria para realizar cálculos matemáticos\n",
        "\n",
        "#Función para actualizar el color según el valor de pH\n",
        "def actualizar_pH(valor_pH):\n",
        "    try:\n",
        "        valor_pH = int(valor_pH)  #Convierte el valor de pH de un string a un número entero\n",
        "        #Rangos de pH y sus colores correspondientes\n",
        "        if 0 <= valor_pH <= 3:\n",
        "            color = degradado_color((1, 0, 0), (1, 1, 0), valor_pH / 3)\n",
        "            leyenda = f\"pH {valor_pH}\"\n",
        "        elif 4 <= valor_pH <= 6:\n",
        "            color = degradado_color((1, 1, 0), (0, 1, 0), (valor_pH - 4) / 3)\n",
        "            leyenda = f\"pH {valor_pH}\"\n",
        "        elif valor_pH == 7:\n",
        "            color = \"green\"\n",
        "            leyenda = \"pH 7 (Neutro)\"\n",
        "        elif 8 <= valor_pH <= 10:\n",
        "            color = degradado_color((0, 1, 0), (0, 0, 1), (valor_pH - 8) / 3)\n",
        "            leyenda = f\"pH {valor_pH}\"\n",
        "        elif 11 <= valor_pH <= 14:\n",
        "            color = degradado_color((0, 0, 1), (0.5, 0, 0.5), (valor_pH - 11) / 3)\n",
        "            leyenda = f\"pH {valor_pH}\"\n",
        "        else:\n",
        "            color = \"gray\"\n",
        "            leyenda = \"Valor no válido\"\n",
        "\n",
        "        # Crea un gráfico con el color correspondiente\n",
        "        plt.figure(figsize=(2, 2))\n",
        "        plt.bar(0, 1, color=color)\n",
        "        plt.axis('off')  #Oculta los ejes del gráfico\n",
        "        plt.show()  #Muestra el gráfico en el notebook\n",
        "        print(leyenda)  #Muestra la leyenda del pH\n",
        "    except ValueError:\n",
        "        print(\"Ingresa un valor válido para el pH (número entero).\")\n",
        "\n",
        "#Función para crear un color de degradado entre dos colores\n",
        "def degradado_color(color1, color2, fraccion):\n",
        "    r = color1[0] + (color2[0] - color1[0]) * fraccion\n",
        "    g = color1[1] + (color2[1] - color1[1]) * fraccion\n",
        "    b = color1[2] + (color2[2] - color1[2]) * fraccion\n",
        "    return (r, g, b)\n",
        "\n",
        "#Crea un widget de deslizador para seleccionar el valor de pH\n",
        "pH_slider = widgets.IntSlider(\n",
        "    value=7,  #Valor inicial del deslizador\n",
        "    min=0,    #Valor mínimo de pH\n",
        "    max=14,   #Valor máximo de pH\n",
        "    description='pH:'  #Etiqueta del deslizador\n",
        ")\n",
        "\n",
        "#Conecta el widget de deslizador a la función de actualización\n",
        "widgets.interactive(actualizar_pH, valor_pH=pH_slider)\n",
        "\n"
      ],
      "metadata": {
        "colab": {
          "base_uri": "https://localhost:8080/",
          "height": 240,
          "referenced_widgets": [
            "9ac22c904c7548fe9be4770c173d2ab8",
            "26b330d4d4da44cea5105d32551b210a",
            "77402006b0aa4999b40c018ff7d0ee71",
            "0b1294be7bda410d90e88fc6bb7e66e1",
            "2dae867c1b1d40bf9a0ddc242a851789",
            "2500db310a60406cb0dec76bcda129ac",
            "2d8787ebd7d94df1a4efe1f462a978d9"
          ]
        },
        "id": "fCiZvAO4-8bL",
        "outputId": "73e05f66-c6db-4773-a2cd-8dbcbccd58b8"
      },
      "execution_count": 2,
      "outputs": [
        {
          "output_type": "display_data",
          "data": {
            "text/plain": [
              "interactive(children=(IntSlider(value=7, description='pH:', max=14), Output()), _dom_classes=('widget-interact…"
            ],
            "application/vnd.jupyter.widget-view+json": {
              "version_major": 2,
              "version_minor": 0,
              "model_id": "9ac22c904c7548fe9be4770c173d2ab8"
            }
          },
          "metadata": {}
        }
      ]
    }
  ]
}