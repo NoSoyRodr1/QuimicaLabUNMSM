{
  "nbformat": 4,
  "nbformat_minor": 0,
  "metadata": {
    "colab": {
      "provenance": [],
      "authorship_tag": "ABX9TyN5SdULhXsw5HgyEE5sb6z7",
      "include_colab_link": true
    },
    "kernelspec": {
      "name": "python3",
      "display_name": "Python 3"
    },
    "language_info": {
      "name": "python"
    }
  },
  "cells": [
    {
      "cell_type": "markdown",
      "metadata": {
        "id": "view-in-github",
        "colab_type": "text"
      },
      "source": [
        "<a href=\"https://colab.research.google.com/github/NoSoyRodr1/QuimicaLabUNMSM/blob/main/PracticaCineticaQuimica.ipynb\" target=\"_parent\"><img src=\"https://colab.research.google.com/assets/colab-badge.svg\" alt=\"Open In Colab\"/></a>"
      ]
    },
    {
      "cell_type": "code",
      "execution_count": 3,
      "metadata": {
        "id": "h-p5cuIISeSY"
      },
      "outputs": [],
      "source": [
        "%%capture\n",
        "! pip install rdkit\n",
        "! pip install pyscf"
      ]
    },
    {
      "cell_type": "code",
      "source": [
        "from rdkit import Chem\n",
        "from rdkit.Chem import Draw\n",
        "from rdkit.Chem import AllChem\n",
        "from rdkit.Chem.Draw import IPythonConsole\n",
        "IPythonConsole.drawOptions.addAtomIndices = True"
      ],
      "metadata": {
        "id": "HvRiLyIhTbQS"
      },
      "execution_count": 4,
      "outputs": []
    },
    {
      "cell_type": "markdown",
      "source": [
        "FIRST"
      ],
      "metadata": {
        "id": "jxeN6nGyVmcM"
      }
    },
    {
      "cell_type": "code",
      "source": [
        "smiles = \"F\\C=C/C\"\n",
        "\n",
        "mol = Chem.MolFromSmiles(smiles)\n",
        "\n",
        "mol_h = Chem.AddHs(mol)\n",
        "\n",
        "Draw.MolsToGridImage([mol, mol_h], subImgSize=(300,300))"
      ],
      "metadata": {
        "colab": {
          "base_uri": "https://localhost:8080/",
          "height": 317
        },
        "id": "crmyAU9jTb9C",
        "outputId": "008581d5-6fd9-4775-a018-e6aba31f3624"
      },
      "execution_count": 5,
      "outputs": [
        {
          "output_type": "execute_result",
          "data": {
            "image/png": "[encoded data removed]",
            "text/plain": [
              "<IPython.core.display.Image object>"
            ]
          },
          "metadata": {},
          "execution_count": 5
        }
      ]
    },
    {
      "cell_type": "code",
      "source": [
        "Chem.AllChem.EmbedMolecule(mol_h)\n",
        "\n",
        "print(Chem.MolToMolBlock(mol_h))"
      ],
      "metadata": {
        "colab": {
          "base_uri": "https://localhost:8080/"
        },
        "id": "aIzeDlTEVLDr",
        "outputId": "63f313cc-dcfb-4e66-fc80-fa81f9b22b25"
      },
      "execution_count": 6,
      "outputs": [
        {
          "output_type": "stream",
          "name": "stdout",
          "text": [
            "\n",
            "     RDKit          3D\n",
            "\n",
            "  9  8  0  0  0  0  0  0  0  0999 V2000\n",
            "    1.1808    1.5005    0.5321 F   0  0  0  0  0  0  0  0  0  0  0  0\n",
            "    1.2955    0.2366    0.0442 C   0  0  0  0  0  0  0  0  0  0  0  0\n",
            "    0.2498   -0.5351   -0.2253 C   0  0  0  0  0  0  0  0  0  0  0  0\n",
            "   -1.1141    0.0312    0.0267 C   0  0  0  0  0  0  0  0  0  0  0  0\n",
            "    2.2866   -0.2066   -0.1511 H   0  0  0  0  0  0  0  0  0  0  0  0\n",
            "    0.3984   -1.5377   -0.6138 H   0  0  0  0  0  0  0  0  0  0  0  0\n",
            "   -1.8891   -0.4676   -0.6070 H   0  0  0  0  0  0  0  0  0  0  0  0\n",
            "   -1.3164   -0.1516    1.1146 H   0  0  0  0  0  0  0  0  0  0  0  0\n",
            "   -1.0915    1.1301   -0.1204 H   0  0  0  0  0  0  0  0  0  0  0  0\n",
            "  1  2  1  0\n",
            "  2  3  2  0\n",
            "  3  4  1  0\n",
            "  2  5  1  0\n",
            "  3  6  1  0\n",
            "  4  7  1  0\n",
            "  4  8  1  0\n",
            "  4  9  1  0\n",
            "M  END\n",
            "\n"
          ]
        }
      ]
    },
    {
      "cell_type": "code",
      "source": [
        "Chem.MolToXYZFile(mol_h,\"first.xyz\")"
      ],
      "metadata": {
        "id": "sgD4FISoVXLC"
      },
      "execution_count": 7,
      "outputs": []
    },
    {
      "cell_type": "code",
      "source": [
        "smiles = \"F\\C=C/C\"\n",
        "mol = Chem.MolFromSmiles(smiles)\n",
        "mol = Chem.AddHs(mol)\n",
        "Chem.AllChem.EmbedMolecule(mol)\n",
        "Chem.MolToXYZFile(mol, \"first.xyz\")\n",
        "mol"
      ],
      "metadata": {
        "colab": {
          "base_uri": "https://localhost:8080/",
          "height": 167
        },
        "id": "Da4U7sQ3VqD8",
        "outputId": "556934d7-f3a3-49f1-b4f9-85af4dd86f89"
      },
      "execution_count": 8,
      "outputs": [
        {
          "output_type": "execute_result",
          "data": {
            "text/plain": [
              "<rdkit.Chem.rdchem.Mol at 0x7a0515f07c30>"
            ],
            "image/png": "[encoded data removed]"
          },
          "metadata": {},
          "execution_count": 8
        }
      ]
    },
    {
      "cell_type": "code",
      "source": [
        "Chem.AllChem.SetDihedralDeg(mol.GetConformer(0),8,3,2,1,90.0)\n",
        "\n",
        "Chem.MolToXYZFile(mol, \"90.xyz\")\n",
        "\n",
        "mol"
      ],
      "metadata": {
        "id": "N1eojWzRV37q"
      },
      "execution_count": null,
      "outputs": []
    },
    {
      "cell_type": "code",
      "source": [
        "diedros = [0, 30, 60, 90, 120, 150, 180, 210, 240, 270, 300, 330]\n",
        "mol_lista = []\n",
        "for i in diedros:\n",
        "  Chem.AllChem.SetDihedralDeg(mol.GetConformer(0),8,3,2,1,i)\n",
        "  Chem.MolToXYZFile(mol, f\"{i}.xyz\")"
      ],
      "metadata": {
        "id": "9vMckPZQXfCE"
      },
      "execution_count": 10,
      "outputs": []
    },
    {
      "cell_type": "code",
      "source": [
        "cat 30.xyz"
      ],
      "metadata": {
        "colab": {
          "base_uri": "https://localhost:8080/"
        },
        "id": "8BiFw_8EXnIL",
        "outputId": "e77edc54-3a20-4b90-ad78-b63dc312b56d"
      },
      "execution_count": 11,
      "outputs": [
        {
          "output_type": "stream",
          "name": "stdout",
          "text": [
            "9\n",
            "\n",
            "F      1.089432    1.000847    1.386922\n",
            "C      1.297921   -0.006776    0.503276\n",
            "C      0.273396   -0.540967   -0.149389\n",
            "C     -1.097418   -0.007510    0.113887\n",
            "H      2.300298   -0.363357    0.341256\n",
            "H      0.400971   -1.341876   -0.857945\n",
            "H     -1.529500   -0.608149    0.940725\n",
            "H     -1.672780   -0.133597   -0.840556\n",
            "H     -1.083652    1.044997    0.388617\n"
          ]
        }
      ]
    },
    {
      "cell_type": "markdown",
      "source": [
        "SECOND"
      ],
      "metadata": {
        "id": "RLTf9R0fVouK"
      }
    },
    {
      "cell_type": "code",
      "source": [
        "smiles = \"F/C=C/C\"\n",
        "\n",
        "mol = Chem.MolFromSmiles(smiles)\n",
        "\n",
        "mol_h = Chem.AddHs(mol)\n",
        "\n",
        "Draw.MolsToGridImage([mol, mol_h], subImgSize=(300,300))"
      ],
      "metadata": {
        "colab": {
          "base_uri": "https://localhost:8080/",
          "height": 317
        },
        "id": "RNzZgcQxT1uS",
        "outputId": "5e839d1d-621e-45e4-f7ab-82f2874b48f2"
      },
      "execution_count": 12,
      "outputs": [
        {
          "output_type": "execute_result",
          "data": {
            "image/png": "[encoded data removed]",
            "text/plain": [
              "<IPython.core.display.Image object>"
            ]
          },
          "metadata": {},
          "execution_count": 12
        }
      ]
    },
    {
      "cell_type": "code",
      "source": [
        "Chem.AllChem.EmbedMolecule(mol_h)\n",
        "\n",
        "print(Chem.MolToMolBlock(mol_h))"
      ],
      "metadata": {
        "colab": {
          "base_uri": "https://localhost:8080/"
        },
        "id": "0AgKuwcIVMAi",
        "outputId": "490eb288-aad5-4802-c368-433075daa1a6"
      },
      "execution_count": 13,
      "outputs": [
        {
          "output_type": "stream",
          "name": "stdout",
          "text": [
            "\n",
            "     RDKit          3D\n",
            "\n",
            "  9  8  0  0  0  0  0  0  0  0999 V2000\n",
            "    2.5068   -0.2317    0.0374 F   0  0  0  0  0  0  0  0  0  0  0  0\n",
            "    1.2537    0.2682   -0.1388 C   0  0  0  0  0  0  0  0  0  0  0  0\n",
            "    0.2369   -0.5156    0.1992 C   0  0  0  0  0  0  0  0  0  0  0  0\n",
            "   -1.1257    0.0659   -0.0078 C   0  0  0  0  0  0  0  0  0  0  0  0\n",
            "    1.1427    1.2687   -0.5411 H   0  0  0  0  0  0  0  0  0  0  0  0\n",
            "    0.3867   -1.5224    0.6033 H   0  0  0  0  0  0  0  0  0  0  0  0\n",
            "   -1.9227   -0.7028    0.0650 H   0  0  0  0  0  0  0  0  0  0  0  0\n",
            "   -1.2651    0.8388    0.8014 H   0  0  0  0  0  0  0  0  0  0  0  0\n",
            "   -1.2134    0.5308   -1.0186 H   0  0  0  0  0  0  0  0  0  0  0  0\n",
            "  1  2  1  0\n",
            "  2  3  2  0\n",
            "  3  4  1  0\n",
            "  2  5  1  0\n",
            "  3  6  1  0\n",
            "  4  7  1  0\n",
            "  4  8  1  0\n",
            "  4  9  1  0\n",
            "M  END\n",
            "\n"
          ]
        }
      ]
    },
    {
      "cell_type": "code",
      "source": [
        "Chem.MolToXYZFile(mol_h,\"second.xyz\")"
      ],
      "metadata": {
        "id": "zyLwqWyYVZ9i"
      },
      "execution_count": 14,
      "outputs": []
    },
    {
      "cell_type": "code",
      "source": [
        "smiles = \"F\\C=C/C\"\n",
        "mol = Chem.MolFromSmiles(smiles)\n",
        "mol = Chem.AddHs(mol)\n",
        "Chem.AllChem.EmbedMolecule(mol)\n",
        "Chem.MolToXYZFile(mol, \"second.xyz\")\n",
        "mol"
      ],
      "metadata": {
        "colab": {
          "base_uri": "https://localhost:8080/",
          "height": 167
        },
        "outputId": "e1fc69d6-fcac-4c42-87f9-b7c4bedd6cee",
        "id": "ocCPtzIUYtYr"
      },
      "execution_count": 15,
      "outputs": [
        {
          "output_type": "execute_result",
          "data": {
            "text/plain": [
              "<rdkit.Chem.rdchem.Mol at 0x7a0515f07f40>"
            ],
            "image/png": "[encoded data removed]"
          },
          "metadata": {},
          "execution_count": 15
        }
      ]
    },
    {
      "cell_type": "code",
      "source": [
        "Chem.AllChem.SetDihedralDeg(mol.GetConformer(0),7,3,2,1,90.0)\n",
        "\n",
        "Chem.MolToXYZFile(mol, \"90b.xyz\")\n",
        "\n",
        "mol"
      ],
      "metadata": {
        "colab": {
          "base_uri": "https://localhost:8080/",
          "height": 167
        },
        "outputId": "f2f6f4b1-7423-4bb9-ea15-28eeda4a17e5",
        "id": "E3b5mlGoYtYs"
      },
      "execution_count": 16,
      "outputs": [
        {
          "output_type": "execute_result",
          "data": {
            "text/plain": [
              "<rdkit.Chem.rdchem.Mol at 0x7a0515f07f40>"
            ],
            "image/png": "[encoded data removed]"
          },
          "metadata": {},
          "execution_count": 16
        }
      ]
    },
    {
      "cell_type": "code",
      "source": [
        "diedros = [0, 30, 60, 90, 120, 150, 180, 210, 240, 270, 300, 330]\n",
        "mol_lista = []\n",
        "for i in diedros:\n",
        "  Chem.AllChem.SetDihedralDeg(mol.GetConformer(0),8,3,2,1,i)\n",
        "  Chem.MolToXYZFile(mol, f\"{i}b.xyz\")"
      ],
      "metadata": {
        "id": "ZlTD-BJaYtYt"
      },
      "execution_count": 17,
      "outputs": []
    },
    {
      "cell_type": "code",
      "source": [
        "cat 30b.xyz"
      ],
      "metadata": {
        "colab": {
          "base_uri": "https://localhost:8080/"
        },
        "outputId": "d523b9a6-debe-4582-c1e2-89b885e849ea",
        "id": "EijifUR8YtYu"
      },
      "execution_count": 18,
      "outputs": [
        {
          "output_type": "stream",
          "name": "stdout",
          "text": [
            "9\n",
            "\n",
            "F      1.228948    1.532502    0.350611\n",
            "C      1.322253    0.201634    0.172546\n",
            "C      0.253993   -0.544482   -0.011211\n",
            "C     -1.113548    0.045028   -0.031688\n",
            "H      2.298560   -0.242623    0.183868\n",
            "H      0.391090   -1.626727   -0.151414\n",
            "H     -1.782313   -0.557888   -0.685416\n",
            "H     -1.534978    0.071463    1.004076\n",
            "H     -1.085588    1.085688   -0.409280\n"
          ]
        }
      ]
    },
    {
      "cell_type": "code",
      "source": [
        "\n",
        "from pyscf import gto, dft\n",
        "\n",
        "mol_hh = gto.M(atom=\"first.xyz\")\n",
        "\n",
        "mol_hh.basis = \"3-21G\"\n",
        "\n",
        "mf = dft.KS(mol_hh)\n",
        "mf.xc = 'b3lyp'\n",
        "\n",
        "energy1 = mf.kernel()\n",
        "\n",
        "print(\"Energía total:\", energy1)"
      ],
      "metadata": {
        "colab": {
          "base_uri": "https://localhost:8080/"
        },
        "id": "4A7sYfmalIn2",
        "outputId": "77ccc12d-ff4e-4ece-ba9b-ebe3e0a11526"
      },
      "execution_count": 24,
      "outputs": [
        {
          "output_type": "stream",
          "name": "stdout",
          "text": [
            "converged SCF energy = -214.252938034881\n",
            "Energía total: -214.25293803488074\n"
          ]
        }
      ]
    },
    {
      "cell_type": "code",
      "source": [
        "\n",
        "from pyscf import gto, dft\n",
        "\n",
        "mol_hh = gto.M(atom=\"second.xyz\")\n",
        "\n",
        "mol_hh.basis = \"3-21G\"\n",
        "\n",
        "mf = dft.KS(mol_hh)\n",
        "mf.xc = 'b3lyp'\n",
        "\n",
        "energy2 = mf.kernel()\n",
        "\n",
        "print(\"Energía total:\", energy2)"
      ],
      "metadata": {
        "colab": {
          "base_uri": "https://localhost:8080/"
        },
        "id": "eN6d3Ae0lRif",
        "outputId": "62f10c37-8d2b-4961-d735-46bfd3b739d1"
      },
      "execution_count": 25,
      "outputs": [
        {
          "output_type": "stream",
          "name": "stdout",
          "text": [
            "converged SCF energy = -214.254410703677\n",
            "Energía total: -214.2544107036765\n"
          ]
        }
      ]
    },
    {
      "cell_type": "code",
      "source": [
        "%%capture\n",
        "pip install git+https://github.com/giacomomarchioro/PyEnergyDiagrams"
      ],
      "metadata": {
        "id": "0cyh90hUU4r_"
      },
      "execution_count": 26,
      "outputs": []
    },
    {
      "cell_type": "code",
      "source": [
        "import matplotlib.pyplot as plt\n",
        "from energydiagram import ED\n",
        "\n",
        "energia_reactivos = energy1\n",
        "energia_productos = energy2\n",
        "\n",
        "\n",
        "energia_activacion = energia_reactivos - energia_productos\n",
        "\n",
        "\n",
        "diagram = ED()\n",
        "\n",
        "\n",
        "diagram.add_level(energia_reactivos, 'Reactivos')\n",
        "diagram.add_level(energia_activacion, 'Estado de Transición', color='g')\n",
        "diagram.add_level(energia_productos, 'Productos')\n",
        "\n",
        "\n",
        "diagram.add_link(0, 1)\n",
        "diagram.add_link(1, 2)\n",
        "\n",
        "\n",
        "diagram.plot(ylabel=\"Energía / kcal $mol^{-1}$\")\n",
        "plt.show()"
      ],
      "metadata": {
        "colab": {
          "base_uri": "https://localhost:8080/",
          "height": 393
        },
        "id": "OARqkzfjVC-t",
        "outputId": "97bfd349-7ac8-4d0c-af2a-8786fcce0ea8"
      },
      "execution_count": 29,
      "outputs": [
        {
          "output_type": "display_data",
          "data": {
            "text/plain": [
              "<Figure size 640x480 with 1 Axes>"
            ],
            "image/png": "[encoded data removed]"
          },
          "metadata": {}
        }
      ]
    },
    {
      "cell_type": "markdown",
      "source": [
        "**La reacción es exotérmica**"
      ],
      "metadata": {
        "id": "Bt7q6QaxdotP"
      }
    }
  ]
}